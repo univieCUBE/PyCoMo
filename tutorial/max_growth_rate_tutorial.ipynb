{
 "cells": [
  {
   "cell_type": "markdown",
   "id": "36af7001",
   "metadata": {},
   "source": [
    "# PyCoMo Maximum Growth-Rate #\n",
    "This tutorial show-cases how to find the maximum growth-rate of a community - across all possible abundance profiles.\n",
    "\n",
    "The expected runtime for this notebook is less than 10 minutes."
   ]
  },
  {
   "cell_type": "code",
   "execution_count": 1,
   "id": "2cadb7fd-5d68-4c2b-b803-d6c39ebbf828",
   "metadata": {
    "tags": []
   },
   "outputs": [],
   "source": [
    "from pathlib import Path\n",
    "import sys\n",
    "import os\n",
    "import cobra\n",
    "import math \n",
    "import time\n",
    "import warnings"
   ]
  },
  {
   "cell_type": "code",
   "execution_count": 2,
   "id": "30fa3103-2733-43c7-800a-14db6486fe3e",
   "metadata": {
    "tags": []
   },
   "outputs": [
    {
     "name": "stderr",
     "output_type": "stream",
     "text": [
      "2024-07-08 11:44:32,852 - pycomo.helper.multiprocess - INFO - Multiprocess Logger initialized.\n",
      "2024-07-08 11:44:32,854 - pycomo.pycomo_models - INFO - Logger initialized.\n"
     ]
    }
   ],
   "source": [
    "path_root = \"../src\"  # Change path according to your PyCoMo location\n",
    "sys.path.append(str(path_root))\n",
    "import pycomo"
   ]
  },
  {
   "cell_type": "markdown",
   "id": "686051ed",
   "metadata": {},
   "source": [
    "## Load the Toy Models ##\n",
    "These are simple toy models of 2 organisms. In a community, they are expexted to grow at a maximum of 10/h, however one organism alone can grow as fast as 15/h. Both cases can be calculated."
   ]
  },
  {
   "cell_type": "code",
   "execution_count": 3,
   "id": "3d8fef41-c444-4888-a560-b0f8c444d4e3",
   "metadata": {
    "tags": []
   },
   "outputs": [
    {
     "name": "stdout",
     "output_type": "stream",
     "text": [
      "No community model generated yet. Generating now:\n"
     ]
    },
    {
     "name": "stderr",
     "output_type": "stream",
     "text": [
      "Ignoring reaction 'EX_C_medium' since it already exists.\n"
     ]
    },
    {
     "name": "stdout",
     "output_type": "stream",
     "text": [
      "WARNING: Not all reactions in the model are mass and charge balanced. To check which reactions are imbalanced, please run the get_unbalanced_reactions method of this CommunityModel object\n",
      "Generated community model.\n"
     ]
    }
   ],
   "source": [
    "# create two cobra models from sbml (change the path according to where the models are located)\n",
    "toy1 = cobra.io.read_sbml_model(\"../data/use_case/toy_models/toy_1.xml\")\n",
    "toy2 = cobra.io.read_sbml_model(\"../data/use_case/toy_models/toy_2_2.xml\")\n",
    "\n",
    "# create Single Organism Models from cobra models\n",
    "Toy1 = pycomo.SingleOrganismModel(toy1, \"toy1\")\n",
    "Toy2 = pycomo.SingleOrganismModel(toy2, \"toy2\")\n",
    "\n",
    "# create Community Model from Single Organism Models\n",
    "C = pycomo.CommunityModel([Toy1, Toy2], name = \"Toy_community\")\n",
    "# instantiate the model and set cplex as a solver\n",
    "C.model.solver = \"cplex\""
   ]
  },
  {
   "cell_type": "markdown",
   "id": "8a5e3d76-7f16-4e9d-8c30-a08bce46d809",
   "metadata": {},
   "source": [
    "## Compute maximum community growth rate\n",
    "\n",
    "The method ```max_growth_rate``` calculates the overall maximum growth rate of the community, regardless of its composition."
   ]
  },
  {
   "cell_type": "code",
   "execution_count": 4,
   "id": "4ffa3cd7-ab7f-46ec-af13-1b833c74bbbd",
   "metadata": {
    "scrolled": true,
    "tags": []
   },
   "outputs": [
    {
     "name": "stdout",
     "output_type": "stream",
     "text": [
      "New round\n",
      "lb: 0.0, ub: 1000.0, x: 500.0\n",
      "Infeasible!\n",
      "New round\n",
      "lb: 0.0, ub: 500.0, x: 250.0\n",
      "Infeasible!\n",
      "New round\n",
      "lb: 0.0, ub: 250.0, x: 125.0\n",
      "Infeasible!\n",
      "New round\n",
      "lb: 0.0, ub: 125.0, x: 62.5\n",
      "Infeasible!\n",
      "New round\n",
      "lb: 0.0, ub: 62.5, x: 31.25\n",
      "Infeasible!\n",
      "New round\n",
      "lb: 0.0, ub: 31.25, x: 15.625\n",
      "Infeasible!\n",
      "New round\n",
      "lb: 0.0, ub: 15.625, x: 7.8125\n",
      "                                   reaction_id  min_flux  max_flux\n",
      "toy1_fraction_reaction  toy1_fraction_reaction       0.0       1.0\n",
      "toy2_fraction_reaction  toy2_fraction_reaction       0.0       1.0\n",
      "lb_df: toy1_fraction_reaction    0\n",
      "toy2_fraction_reaction    0\n",
      "Name: min_flux, dtype: int64\n",
      "R_df: toy1_fraction_reaction    1.0\n",
      "toy2_fraction_reaction    1.0\n",
      "dtype: float64\n",
      "Delta: 1.0\n",
      "Sum R_df: 2.0\n",
      "ab_df: toy1_fraction_reaction    0.5\n",
      "toy2_fraction_reaction    0.5\n",
      "dtype: float64\n",
      "fba results: 10.0\n",
      "New round\n",
      "lb: 10.0, ub: 15.625, x: 10.000002\n",
      "                                   reaction_id  min_flux  max_flux\n",
      "toy1_fraction_reaction  toy1_fraction_reaction       0.0       0.0\n",
      "toy2_fraction_reaction  toy2_fraction_reaction       1.0       1.0\n",
      "lb_df: toy1_fraction_reaction    0.0\n",
      "toy2_fraction_reaction    1.0\n",
      "Name: min_flux, dtype: float64\n",
      "R_df: toy1_fraction_reaction    0.0\n",
      "toy2_fraction_reaction    0.0\n",
      "dtype: float64\n",
      "Delta: 0.0\n",
      "ab_df: toy1_fraction_reaction    0.0\n",
      "toy2_fraction_reaction    1.0\n",
      "Name: min_flux, dtype: float64\n",
      "fba results: 15.0\n",
      "New round\n",
      "lb: 15.0, ub: 15.625, x: 15.000002\n",
      "Infeasible!\n",
      "New round\n",
      "lb: 15.0, ub: 15.000002, x: 15.000001000000001\n",
      "Infeasible!\n",
      "New round\n",
      "lb: 15.0, ub: 15.000001000000001, x: 15.0000005\n",
      "                                   reaction_id  min_flux  max_flux\n",
      "toy1_fraction_reaction  toy1_fraction_reaction  0.000000  0.000005\n",
      "toy2_fraction_reaction  toy2_fraction_reaction  0.000005  1.000000\n",
      "lb_df: toy1_fraction_reaction    0.000000\n",
      "toy2_fraction_reaction    0.000005\n",
      "Name: min_flux, dtype: float64\n",
      "R_df: toy1_fraction_reaction    0.000005\n",
      "toy2_fraction_reaction    0.999995\n",
      "dtype: float64\n",
      "Delta: 0.9999947412499602\n",
      "Sum R_df: 1.0\n",
      "ab_df: toy1_fraction_reaction    0.000005\n",
      "toy2_fraction_reaction    0.999995\n",
      "dtype: float64\n",
      "fba results: 10.000000000000002\n"
     ]
    },
    {
     "data": {
      "text/plain": [
       "15.0"
      ]
     },
     "execution_count": 4,
     "metadata": {},
     "output_type": "execute_result"
    }
   ],
   "source": [
    "C.max_growth_rate()"
   ]
  },
  {
   "cell_type": "markdown",
   "id": "77e1e1bf-9532-4222-8120-d876fb1a4083",
   "metadata": {},
   "source": [
    "```max_growth_rate``` has the following parameters:\n",
    "* ```minimal_abundance``` (default = 0)\n",
    "* ```return_abundances``` (default = False)\n",
    "* ```sensitivity``` (default = 6)\n",
    "* ```gurobi``` (default = False)"
   ]
  },
  {
   "cell_type": "markdown",
   "id": "19981da5-150c-40dc-86d0-9a391082c303",
   "metadata": {
    "tags": []
   },
   "source": [
    "### Return Abundances\n",
    "By setting the parameter ```return_abundances``` to ```True```, additional information about the feasible community compositions at the maximum growth rate is returned in the form of a pandas dataframe.\n",
    "\n",
    "The minimal flux of x_fraction_reaction corresponds to the minimal abundance of member x in the community. Likewise, the maximal flux corresponds to the maximal abundance of member x."
   ]
  },
  {
   "cell_type": "code",
   "execution_count": 5,
   "id": "ae13806a-8cf2-4ddc-b509-86ba9a2cce7f",
   "metadata": {
    "scrolled": true,
    "tags": []
   },
   "outputs": [
    {
     "name": "stdout",
     "output_type": "stream",
     "text": [
      "New round\n",
      "lb: 0.0, ub: 1000.0, x: 500.0\n",
      "Infeasible!\n",
      "New round\n",
      "lb: 0.0, ub: 500.0, x: 250.0\n",
      "Infeasible!\n",
      "New round\n",
      "lb: 0.0, ub: 250.0, x: 125.0\n",
      "Infeasible!\n",
      "New round\n",
      "lb: 0.0, ub: 125.0, x: 62.5\n",
      "Infeasible!\n",
      "New round\n",
      "lb: 0.0, ub: 62.5, x: 31.25\n",
      "Infeasible!\n",
      "New round\n",
      "lb: 0.0, ub: 31.25, x: 15.625\n",
      "Infeasible!\n",
      "New round\n",
      "lb: 0.0, ub: 15.625, x: 7.8125\n",
      "                                   reaction_id  min_flux  max_flux\n",
      "toy1_fraction_reaction  toy1_fraction_reaction       0.0       1.0\n",
      "toy2_fraction_reaction  toy2_fraction_reaction       0.0       1.0\n",
      "lb_df: toy1_fraction_reaction    0\n",
      "toy2_fraction_reaction    0\n",
      "Name: min_flux, dtype: int64\n",
      "R_df: toy1_fraction_reaction    1.0\n",
      "toy2_fraction_reaction    1.0\n",
      "dtype: float64\n",
      "Delta: 1.0\n",
      "Sum R_df: 2.0\n",
      "ab_df: toy1_fraction_reaction    0.5\n",
      "toy2_fraction_reaction    0.5\n",
      "dtype: float64\n",
      "fba results: 10.0\n",
      "New round\n",
      "lb: 10.0, ub: 15.625, x: 10.000002\n",
      "                                   reaction_id  min_flux  max_flux\n",
      "toy1_fraction_reaction  toy1_fraction_reaction       0.0       0.0\n",
      "toy2_fraction_reaction  toy2_fraction_reaction       1.0       1.0\n",
      "lb_df: toy1_fraction_reaction    0.0\n",
      "toy2_fraction_reaction    1.0\n",
      "Name: min_flux, dtype: float64\n",
      "R_df: toy1_fraction_reaction    0.0\n",
      "toy2_fraction_reaction    0.0\n",
      "dtype: float64\n",
      "Delta: 0.0\n",
      "ab_df: toy1_fraction_reaction    0.0\n",
      "toy2_fraction_reaction    1.0\n",
      "Name: min_flux, dtype: float64\n",
      "fba results: 15.0\n",
      "New round\n",
      "lb: 15.0, ub: 15.625, x: 15.000002\n",
      "Infeasible!\n",
      "New round\n",
      "lb: 15.0, ub: 15.000002, x: 15.000001000000001\n",
      "Infeasible!\n",
      "New round\n",
      "lb: 15.0, ub: 15.000001000000001, x: 15.0000005\n",
      "                                   reaction_id  min_flux  max_flux\n",
      "toy1_fraction_reaction  toy1_fraction_reaction  0.000000  0.000005\n",
      "toy2_fraction_reaction  toy2_fraction_reaction  0.000005  0.000005\n",
      "lb_df: toy1_fraction_reaction    0.000000\n",
      "toy2_fraction_reaction    0.000005\n",
      "Name: min_flux, dtype: float64\n",
      "R_df: toy1_fraction_reaction    0.000005\n",
      "toy2_fraction_reaction    0.000000\n",
      "dtype: float64\n",
      "Infeasible!\n"
     ]
    },
    {
     "data": {
      "text/html": [
       "<div>\n",
       "<style scoped>\n",
       "    .dataframe tbody tr th:only-of-type {\n",
       "        vertical-align: middle;\n",
       "    }\n",
       "\n",
       "    .dataframe tbody tr th {\n",
       "        vertical-align: top;\n",
       "    }\n",
       "\n",
       "    .dataframe thead th {\n",
       "        text-align: right;\n",
       "    }\n",
       "</style>\n",
       "<table border=\"1\" class=\"dataframe\">\n",
       "  <thead>\n",
       "    <tr style=\"text-align: right;\">\n",
       "      <th></th>\n",
       "      <th>reaction_id</th>\n",
       "      <th>min_flux</th>\n",
       "      <th>max_flux</th>\n",
       "    </tr>\n",
       "  </thead>\n",
       "  <tbody>\n",
       "    <tr>\n",
       "      <th>0</th>\n",
       "      <td>toy1_fraction_reaction</td>\n",
       "      <td>0.0</td>\n",
       "      <td>0.0</td>\n",
       "    </tr>\n",
       "    <tr>\n",
       "      <th>1</th>\n",
       "      <td>toy2_fraction_reaction</td>\n",
       "      <td>1.0</td>\n",
       "      <td>1.0</td>\n",
       "    </tr>\n",
       "    <tr>\n",
       "      <th>2</th>\n",
       "      <td>community_biomass</td>\n",
       "      <td>15.0</td>\n",
       "      <td>15.0</td>\n",
       "    </tr>\n",
       "  </tbody>\n",
       "</table>\n",
       "</div>"
      ],
      "text/plain": [
       "              reaction_id  min_flux  max_flux\n",
       "0  toy1_fraction_reaction       0.0       0.0\n",
       "1  toy2_fraction_reaction       1.0       1.0\n",
       "2       community_biomass      15.0      15.0"
      ]
     },
     "execution_count": 5,
     "metadata": {},
     "output_type": "execute_result"
    }
   ],
   "source": [
    "C.max_growth_rate(return_abundances=True)"
   ]
  },
  {
   "cell_type": "markdown",
   "id": "ca292ce1-73ba-4c76-9408-e7855d8fc925",
   "metadata": {
    "tags": []
   },
   "source": [
    "### Minimal abundance\n",
    "Edge cases exist in which the highest growth rate of a community is not achieved by a combination of all the members. Instead, one member with an abundance of 100% may achieve the maximum growth rate. \n",
    "\n",
    "In order to exclude these cases, the parameter ```minimal_abundance``` must be set to a float greater than 0. This sets the minimal abundance of all members to the set float. Take care that the sum of the minimal abundances is not greater than 1, as this will result in an error."
   ]
  },
  {
   "cell_type": "code",
   "execution_count": 6,
   "id": "5f78e750-989a-4020-993b-436f1cad954e",
   "metadata": {
    "scrolled": true,
    "tags": []
   },
   "outputs": [
    {
     "name": "stdout",
     "output_type": "stream",
     "text": [
      "New round\n",
      "lb: 0.0, ub: 1000.0, x: 500.0\n",
      "Infeasible!\n",
      "New round\n",
      "lb: 0.0, ub: 500.0, x: 250.0\n",
      "Infeasible!\n",
      "New round\n",
      "lb: 0.0, ub: 250.0, x: 125.0\n",
      "Infeasible!\n",
      "New round\n",
      "lb: 0.0, ub: 125.0, x: 62.5\n",
      "Infeasible!\n",
      "New round\n",
      "lb: 0.0, ub: 62.5, x: 31.25\n",
      "Infeasible!\n",
      "New round\n",
      "lb: 0.0, ub: 31.25, x: 15.625\n",
      "Infeasible!\n",
      "New round\n",
      "lb: 0.0, ub: 15.625, x: 7.8125\n",
      "                                   reaction_id  min_flux  max_flux\n",
      "toy1_fraction_reaction  toy1_fraction_reaction       0.1       0.9\n",
      "toy2_fraction_reaction  toy2_fraction_reaction       0.1       0.9\n",
      "lb_df: toy1_fraction_reaction    0.1\n",
      "toy2_fraction_reaction    0.1\n",
      "Name: min_flux, dtype: float64\n",
      "R_df: toy1_fraction_reaction    0.8\n",
      "toy2_fraction_reaction    0.8\n",
      "dtype: float64\n",
      "Delta: 0.8\n",
      "Sum R_df: 1.6\n",
      "ab_df: toy1_fraction_reaction    0.5\n",
      "toy2_fraction_reaction    0.5\n",
      "dtype: float64\n",
      "fba results: 10.000000000000004\n",
      "New round\n",
      "lb: 10.000000000000004, ub: 15.625, x: 10.000002000000004\n",
      "                                   reaction_id  min_flux  max_flux\n",
      "toy1_fraction_reaction  toy1_fraction_reaction       0.0       0.0\n",
      "toy2_fraction_reaction  toy2_fraction_reaction       1.0       1.0\n",
      "lb_df: toy1_fraction_reaction    0.1\n",
      "toy2_fraction_reaction    1.0\n",
      "Name: min_flux, dtype: float64\n",
      "R_df: toy1_fraction_reaction   -0.1\n",
      "toy2_fraction_reaction    0.0\n",
      "dtype: float64\n",
      "Infeasible!\n",
      "New round\n",
      "lb: 10.000000000000004, ub: 10.000002000000004, x: 10.000001000000005\n",
      "                                   reaction_id  min_flux  max_flux\n",
      "toy1_fraction_reaction  toy1_fraction_reaction       0.0       0.0\n",
      "toy2_fraction_reaction  toy2_fraction_reaction       1.0       1.0\n",
      "lb_df: toy1_fraction_reaction    0.1\n",
      "toy2_fraction_reaction    1.0\n",
      "Name: min_flux, dtype: float64\n",
      "R_df: toy1_fraction_reaction   -0.1\n",
      "toy2_fraction_reaction    0.0\n",
      "dtype: float64\n",
      "Infeasible!\n",
      "New round\n",
      "lb: 10.000000000000004, ub: 10.000001000000005, x: 10.000000500000004\n",
      "                                   reaction_id      min_flux  max_flux\n",
      "toy1_fraction_reaction  toy1_fraction_reaction  0.000000e+00       1.0\n",
      "toy2_fraction_reaction  toy2_fraction_reaction  5.000000e-08       1.0\n",
      "lb_df: toy1_fraction_reaction    0.1\n",
      "toy2_fraction_reaction    0.1\n",
      "Name: min_flux, dtype: float64\n",
      "R_df: toy1_fraction_reaction    0.9\n",
      "toy2_fraction_reaction    0.9\n",
      "dtype: float64\n",
      "Delta: 0.8\n",
      "Sum R_df: 1.7999999500000046\n",
      "ab_df: toy1_fraction_reaction    0.5\n",
      "toy2_fraction_reaction    0.5\n",
      "dtype: float64\n",
      "fba results: 10.0\n"
     ]
    },
    {
     "data": {
      "text/plain": [
       "10.0"
      ]
     },
     "execution_count": 6,
     "metadata": {},
     "output_type": "execute_result"
    }
   ],
   "source": [
    "C.max_growth_rate(minimal_abundance=0.1)"
   ]
  },
  {
   "cell_type": "code",
   "execution_count": 7,
   "id": "af800adc-ed1a-4db0-aa44-2295b3d5add6",
   "metadata": {
    "tags": []
   },
   "outputs": [
    {
     "name": "stdout",
     "output_type": "stream",
     "text": [
      "Error thrown!\n"
     ]
    }
   ],
   "source": [
    "# too large minimal_abundance value leads to an error\n",
    "try:\n",
    "    C.max_growth_rate(minimal_abundance=0.6)\n",
    "except AssertionError:\n",
    "    print(\"Error thrown!\")\n",
    "    \n",
    "# The community has two members: \n",
    "# 2 * 0.6 = 1.2\n",
    "# 1.2 > 1"
   ]
  },
  {
   "cell_type": "markdown",
   "id": "221ee104-59a2-4510-a6d8-9f3d8b15b8d3",
   "metadata": {},
   "source": [
    "## Example: Biogas producing community ##\n",
    "The example for this part will be a three member community published by Koch et al. 2019 (https://doi.org/10.1371/journal.pcbi.1006759). The three member organisms are representatives of functional guilds in a biogas community."
   ]
  },
  {
   "cell_type": "code",
   "execution_count": 8,
   "id": "97960ca4-12d8-4ea5-945e-1d080248c86a",
   "metadata": {
    "scrolled": true,
    "tags": []
   },
   "outputs": [
    {
     "name": "stderr",
     "output_type": "stream",
     "text": [
      "'3PG' is not a valid SBML 'SId'.\n",
      "'2PG' is not a valid SBML 'SId'.\n",
      "Adding exchange reaction EX_H2_EX with default bounds for boundary metabolite: H2_EX.\n",
      "Adding exchange reaction EX_Ac_EX with default bounds for boundary metabolite: Ac_EX.\n",
      "Adding exchange reaction EX_CO2_EX with default bounds for boundary metabolite: CO2_EX.\n",
      "Adding exchange reaction EX_Form_EX with default bounds for boundary metabolite: Form_EX.\n",
      "Adding exchange reaction EX_SO4_EX with default bounds for boundary metabolite: SO4_EX.\n",
      "Adding exchange reaction EX_H2S_EX with default bounds for boundary metabolite: H2S_EX.\n",
      "Adding exchange reaction EX_Eth_EX with default bounds for boundary metabolite: Eth_EX.\n",
      "Adding exchange reaction EX_Lac_EX with default bounds for boundary metabolite: Lac_EX.\n",
      "Adding exchange reaction EX_Pyr_EX with default bounds for boundary metabolite: Pyr_EX.\n",
      "Adding exchange reaction EX_BM_tot with default bounds for boundary metabolite: BM_tot.\n",
      "'2PG__PEP' is not a valid SBML 'SId'.\n",
      "'3PG__2PG' is not a valid SBML 'SId'.\n",
      "'0Pyr__AcCoA' is not a valid SBML 'SId'.\n",
      "'5CHOMPT' is not a valid SBML 'SId'.\n",
      "'3PG' is not a valid SBML 'SId'.\n",
      "'2PG' is not a valid SBML 'SId'.\n",
      "Adding exchange reaction EX_H2_EX with default bounds for boundary metabolite: H2_EX.\n",
      "Adding exchange reaction EX_CO2_EX with default bounds for boundary metabolite: CO2_EX.\n",
      "Adding exchange reaction EX_CH4_EX with default bounds for boundary metabolite: CH4_EX.\n",
      "Adding exchange reaction EX_Form_EX with default bounds for boundary metabolite: Form_EX.\n",
      "Adding exchange reaction EX_BM_tot with default bounds for boundary metabolite: BM_tot.\n",
      "'2PG__3PG' is not a valid SBML 'SId'.\n",
      "'3PG__DPG' is not a valid SBML 'SId'.\n",
      "'5CHOMPT__CHH4MPT' is not a valid SBML 'SId'.\n",
      "'3PG' is not a valid SBML 'SId'.\n",
      "'2PG' is not a valid SBML 'SId'.\n",
      "'5CHOMPT' is not a valid SBML 'SId'.\n",
      "Adding exchange reaction EX_H2_EX with default bounds for boundary metabolite: H2_EX.\n",
      "Adding exchange reaction EX_CO2_EX with default bounds for boundary metabolite: CO2_EX.\n",
      "Adding exchange reaction EX_CH4_EX with default bounds for boundary metabolite: CH4_EX.\n",
      "Adding exchange reaction EX_Ac_EX with default bounds for boundary metabolite: Ac_EX.\n",
      "Adding exchange reaction EX_MetOH_EX with default bounds for boundary metabolite: MetOH_EX.\n",
      "Adding exchange reaction EX_BM_tot with default bounds for boundary metabolite: BM_tot.\n",
      "'3PG__2PG__3PG' is not a valid SBML 'SId'.\n",
      "'5CHOMPT__CHH4MPT' is not a valid SBML 'SId'.\n"
     ]
    },
    {
     "name": "stdout",
     "output_type": "stream",
     "text": [
      "No community model generated yet. Generating now:\n"
     ]
    },
    {
     "name": "stderr",
     "output_type": "stream",
     "text": [
      "Ignoring reaction 'EX_H2_EX_medium' since it already exists.\n",
      "Ignoring reaction 'EX_CO2_EX_medium' since it already exists.\n",
      "Ignoring reaction 'EX_Form_EX_medium' since it already exists.\n"
     ]
    },
    {
     "name": "stdout",
     "output_type": "stream",
     "text": [
      "WARNING: no annotation overlap found for matching metabolite H2_EX. Please make sure that the metabolite with this ID is indeed representing the same substance in all models!\n",
      "WARNING: no annotation overlap found for matching metabolite CO2_EX. Please make sure that the metabolite with this ID is indeed representing the same substance in all models!\n",
      "WARNING: no annotation overlap found for matching metabolite Form_EX. Please make sure that the metabolite with this ID is indeed representing the same substance in all models!\n"
     ]
    },
    {
     "name": "stderr",
     "output_type": "stream",
     "text": [
      "Ignoring reaction 'EX_H2_EX_medium' since it already exists.\n",
      "Ignoring reaction 'EX_CO2_EX_medium' since it already exists.\n",
      "Ignoring reaction 'EX_CH4_EX_medium' since it already exists.\n",
      "Ignoring reaction 'EX_Ac_EX_medium' since it already exists.\n",
      "Ignoring reaction 'EX_BM_tot_medium' since it already exists.\n"
     ]
    },
    {
     "name": "stdout",
     "output_type": "stream",
     "text": [
      "WARNING: no annotation overlap found for matching metabolite CO2_EX. Please make sure that the metabolite with this ID is indeed representing the same substance in all models!\n",
      "WARNING: no annotation overlap found for matching metabolite CH4_EX. Please make sure that the metabolite with this ID is indeed representing the same substance in all models!\n",
      "WARNING: no annotation overlap found for matching metabolite Ac_EX. Please make sure that the metabolite with this ID is indeed representing the same substance in all models!\n",
      "WARNING: no annotation overlap found for matching metabolite H2_EX. Please make sure that the metabolite with this ID is indeed representing the same substance in all models!\n",
      "WARNING: no annotation overlap found for matching metabolite BM_tot. Please make sure that the metabolite with this ID is indeed representing the same substance in all models!\n",
      "Generated community model.\n"
     ]
    }
   ],
   "source": [
    "# create cobra models from sbml\n",
    "dv = cobra.io.read_sbml_model(\"../data/use_case/koch/dv.xml\")\n",
    "mh = cobra.io.read_sbml_model(\"../data/use_case/koch/mh.xml\")\n",
    "mb = cobra.io.read_sbml_model(\"../data/use_case/koch/mb.xml\")\n",
    "\n",
    "# change infinite upper bounds to 1000\n",
    "for model in [dv,mh,mb]:\n",
    "    for reaction in model.reactions:\n",
    "        if reaction.upper_bound == math.inf:\n",
    "            reaction.upper_bound = 1000.\n",
    "        if reaction.lower_bound == -math.inf:\n",
    "            reaction.lower_bound = -1000.\n",
    "\n",
    "# create Single Organism Models from cobra models\n",
    "DV = pycomo.SingleOrganismModel(dv, \"dv\")\n",
    "MH = pycomo.SingleOrganismModel(mh, \"mh\")\n",
    "MB = pycomo.SingleOrganismModel(mb, \"mb\")\n",
    "\n",
    "# create Community Model from Single Organism Models\n",
    "C2 = pycomo.CommunityModel([DV, MH, MB], name = \"dv_mh_mb_community\")\n",
    "\n",
    "# set solver to cplex \n",
    "C2.model.solver = \"cplex\"\n",
    "\n",
    "# apply the same medium as in the paper by Koch et al.\n",
    "medium = {\n",
    "    'EX_CO2_EX_medium': 1000.0,\n",
    "    'EX_Eth_EX_medium': 1000.0,\n",
    "    'EX_BM_tot_medium': 1000.0\n",
    "}\n",
    "C2.medium = medium\n",
    "C2.apply_medium()\n",
    "\n",
    "# Formate and Hydrogen are not allowed to accumulate in the medium.\n",
    "C2.model.reactions.get_by_id(\"EX_Form_EX_medium\").upper_bound = 0.\n",
    "C2.model.reactions.get_by_id(\"EX_H2_EX_medium\").upper_bound = 0.\n"
   ]
  },
  {
   "cell_type": "code",
   "execution_count": 9,
   "id": "46812556-3d00-40bb-8fc2-30940ad18269",
   "metadata": {
    "tags": []
   },
   "outputs": [
    {
     "name": "stdout",
     "output_type": "stream",
     "text": [
      "New round\n",
      "lb: 0.0, ub: 1000.0, x: 500.0\n",
      "Infeasible!\n",
      "New round\n",
      "lb: 0.0, ub: 500.0, x: 250.0\n",
      "Infeasible!\n",
      "New round\n",
      "lb: 0.0, ub: 250.0, x: 125.0\n",
      "Infeasible!\n",
      "New round\n",
      "lb: 0.0, ub: 125.0, x: 62.5\n",
      "Infeasible!\n",
      "New round\n",
      "lb: 0.0, ub: 62.5, x: 31.25\n",
      "Infeasible!\n",
      "New round\n",
      "lb: 0.0, ub: 31.25, x: 15.625\n",
      "Infeasible!\n",
      "New round\n",
      "lb: 0.0, ub: 15.625, x: 7.8125\n",
      "Infeasible!\n",
      "New round\n",
      "lb: 0.0, ub: 7.8125, x: 3.90625\n",
      "Infeasible!\n",
      "New round\n",
      "lb: 0.0, ub: 3.90625, x: 1.953125\n",
      "Infeasible!\n",
      "New round\n",
      "lb: 0.0, ub: 1.953125, x: 0.9765625\n",
      "Infeasible!\n",
      "New round\n",
      "lb: 0.0, ub: 0.9765625, x: 0.48828125\n",
      "Infeasible!\n",
      "New round\n",
      "lb: 0.0, ub: 0.48828125, x: 0.244140625\n",
      "Infeasible!\n",
      "New round\n",
      "lb: 0.0, ub: 0.244140625, x: 0.1220703125\n",
      "Infeasible!\n",
      "New round\n",
      "lb: 0.0, ub: 0.1220703125, x: 0.06103515625\n",
      "Infeasible!\n",
      "New round\n",
      "lb: 0.0, ub: 0.06103515625, x: 0.030517578125\n",
      "                               reaction_id  min_flux  max_flux\n",
      "dv_fraction_reaction  dv_fraction_reaction  0.054405  0.440197\n",
      "mh_fraction_reaction  mh_fraction_reaction  0.000000  0.767345\n",
      "mb_fraction_reaction  mb_fraction_reaction  0.000000  0.945595\n",
      "lb_df: dv_fraction_reaction    0.054405\n",
      "mh_fraction_reaction    0.000000\n",
      "mb_fraction_reaction    0.000000\n",
      "Name: min_flux, dtype: float64\n",
      "R_df: dv_fraction_reaction    0.385792\n",
      "mh_fraction_reaction    0.767345\n",
      "mb_fraction_reaction    0.945595\n",
      "dtype: float64\n",
      "Delta: 0.9455947182427559\n",
      "Sum R_df: 2.0987319742701223\n",
      "ab_df: dv_fraction_reaction    0.228226\n",
      "mh_fraction_reaction    0.345731\n",
      "mb_fraction_reaction    0.426043\n",
      "dtype: float64\n",
      "fba results: 0.052128854257330576\n",
      "New round\n",
      "lb: 0.052128854257330576, ub: 0.06103515625, x: 0.05213085425733058\n",
      "                               reaction_id    min_flux   max_flux\n",
      "dv_fraction_reaction  dv_fraction_reaction    0.074555  92.983824\n",
      "mh_fraction_reaction  mh_fraction_reaction    0.000000  92.983824\n",
      "mb_fraction_reaction  mb_fraction_reaction  173.091950  92.983824\n",
      "lb_df: dv_fraction_reaction      0.074555\n",
      "mh_fraction_reaction      0.000000\n",
      "mb_fraction_reaction    173.091950\n",
      "Name: min_flux, dtype: float64\n",
      "R_df: dv_fraction_reaction    92.909269\n",
      "mh_fraction_reaction    92.983824\n",
      "mb_fraction_reaction   -80.108126\n",
      "dtype: float64\n",
      "Infeasible!\n",
      "New round\n",
      "lb: 0.052128854257330576, ub: 0.05213085425733058, x: 0.05212985425733058\n",
      "                               reaction_id  min_flux  max_flux\n",
      "dv_fraction_reaction  dv_fraction_reaction  0.074555  1.435792\n",
      "mh_fraction_reaction  mh_fraction_reaction  0.000000  1.435792\n",
      "mb_fraction_reaction  mb_fraction_reaction  6.449391  1.435792\n",
      "lb_df: dv_fraction_reaction    0.074555\n",
      "mh_fraction_reaction    0.000000\n",
      "mb_fraction_reaction    6.449391\n",
      "Name: min_flux, dtype: float64\n",
      "R_df: dv_fraction_reaction    1.361237\n",
      "mh_fraction_reaction    1.435792\n",
      "mb_fraction_reaction   -5.013600\n",
      "dtype: float64\n",
      "Infeasible!\n",
      "New round\n",
      "lb: 0.052128854257330576, ub: 0.05212985425733058, x: 0.052129354257330576\n",
      "                               reaction_id  min_flux  max_flux\n",
      "dv_fraction_reaction  dv_fraction_reaction  0.074554  0.393587\n",
      "mh_fraction_reaction  mh_fraction_reaction  0.000000  0.000003\n",
      "mb_fraction_reaction  mb_fraction_reaction  0.000000  0.000003\n",
      "lb_df: dv_fraction_reaction    0.074554\n",
      "mh_fraction_reaction    0.000000\n",
      "mb_fraction_reaction    0.000000\n",
      "Name: min_flux, dtype: float64\n",
      "R_df: dv_fraction_reaction    0.319033\n",
      "mh_fraction_reaction    0.000003\n",
      "mb_fraction_reaction    0.000003\n",
      "dtype: float64\n",
      "Infeasible!\n"
     ]
    },
    {
     "data": {
      "text/plain": [
       "0.052128"
      ]
     },
     "execution_count": 9,
     "metadata": {},
     "output_type": "execute_result"
    }
   ],
   "source": [
    "# calculate max growth rate of community\n",
    "C2.max_growth_rate()"
   ]
  },
  {
   "cell_type": "code",
   "execution_count": 10,
   "id": "1cd3c036-ebf1-4cf8-b89b-d6803e94aa16",
   "metadata": {
    "tags": []
   },
   "outputs": [
    {
     "name": "stdout",
     "output_type": "stream",
     "text": [
      "New round\n",
      "lb: 0.0, ub: 1000.0, x: 500.0\n",
      "Infeasible!\n",
      "New round\n",
      "lb: 0.0, ub: 500.0, x: 250.0\n",
      "Infeasible!\n",
      "New round\n",
      "lb: 0.0, ub: 250.0, x: 125.0\n",
      "Infeasible!\n",
      "New round\n",
      "lb: 0.0, ub: 125.0, x: 62.5\n",
      "Infeasible!\n",
      "New round\n",
      "lb: 0.0, ub: 62.5, x: 31.25\n",
      "Infeasible!\n",
      "New round\n",
      "lb: 0.0, ub: 31.25, x: 15.625\n",
      "Infeasible!\n",
      "New round\n",
      "lb: 0.0, ub: 15.625, x: 7.8125\n",
      "Infeasible!\n",
      "New round\n",
      "lb: 0.0, ub: 7.8125, x: 3.90625\n",
      "Infeasible!\n",
      "New round\n",
      "lb: 0.0, ub: 3.90625, x: 1.953125\n",
      "Infeasible!\n",
      "New round\n",
      "lb: 0.0, ub: 1.953125, x: 0.9765625\n",
      "Infeasible!\n",
      "New round\n",
      "lb: 0.0, ub: 0.9765625, x: 0.48828125\n",
      "Infeasible!\n",
      "New round\n",
      "lb: 0.0, ub: 0.48828125, x: 0.244140625\n",
      "Infeasible!\n",
      "New round\n",
      "lb: 0.0, ub: 0.244140625, x: 0.1220703125\n",
      "Infeasible!\n",
      "New round\n",
      "lb: 0.0, ub: 0.1220703125, x: 0.06103515625\n",
      "Infeasible!\n",
      "New round\n",
      "lb: 0.0, ub: 0.06103515625, x: 0.030517578125\n",
      "                               reaction_id  min_flux  max_flux\n",
      "dv_fraction_reaction  dv_fraction_reaction  0.054405  0.440197\n",
      "mh_fraction_reaction  mh_fraction_reaction  0.000000  0.767345\n",
      "mb_fraction_reaction  mb_fraction_reaction  0.000000  0.945595\n",
      "lb_df: dv_fraction_reaction    0.054405\n",
      "mh_fraction_reaction    0.000000\n",
      "mb_fraction_reaction    0.000000\n",
      "Name: min_flux, dtype: float64\n",
      "R_df: dv_fraction_reaction    0.385792\n",
      "mh_fraction_reaction    0.767345\n",
      "mb_fraction_reaction    0.945595\n",
      "dtype: float64\n",
      "Delta: 0.9455947182427559\n",
      "Sum R_df: 2.0987319742701227\n",
      "ab_df: dv_fraction_reaction    0.228226\n",
      "mh_fraction_reaction    0.345731\n",
      "mb_fraction_reaction    0.426043\n",
      "dtype: float64\n",
      "fba results: 0.052128854257329424\n",
      "New round\n",
      "lb: 0.052128854257329424, ub: 0.06103515625, x: 0.052130854257329426\n",
      "                               reaction_id    min_flux  max_flux\n",
      "dv_fraction_reaction  dv_fraction_reaction    0.074555  1.435819\n",
      "mh_fraction_reaction  mh_fraction_reaction    0.000000  0.000012\n",
      "mb_fraction_reaction  mb_fraction_reaction  204.873866  0.925441\n",
      "lb_df: dv_fraction_reaction      0.074555\n",
      "mh_fraction_reaction      0.000000\n",
      "mb_fraction_reaction    204.873866\n",
      "Name: min_flux, dtype: float64\n",
      "R_df: dv_fraction_reaction      1.361263\n",
      "mh_fraction_reaction      0.000012\n",
      "mb_fraction_reaction   -203.948425\n",
      "dtype: float64\n",
      "Infeasible!\n",
      "New round\n",
      "lb: 0.052128854257329424, ub: 0.052130854257329426, x: 0.052129854257329425\n",
      "                               reaction_id  min_flux  max_flux\n",
      "dv_fraction_reaction  dv_fraction_reaction  0.074555  0.000035\n",
      "mh_fraction_reaction  mh_fraction_reaction  0.000000  0.000035\n",
      "mb_fraction_reaction  mb_fraction_reaction  6.449391  0.000035\n",
      "lb_df: dv_fraction_reaction    0.074555\n",
      "mh_fraction_reaction    0.000000\n",
      "mb_fraction_reaction    6.449391\n",
      "Name: min_flux, dtype: float64\n",
      "R_df: dv_fraction_reaction   -0.074520\n",
      "mh_fraction_reaction    0.000035\n",
      "mb_fraction_reaction   -6.449357\n",
      "dtype: float64\n",
      "Infeasible!\n",
      "New round\n",
      "lb: 0.052128854257329424, ub: 0.052129854257329425, x: 0.052129354257329424\n",
      "                               reaction_id  min_flux  max_flux\n",
      "dv_fraction_reaction  dv_fraction_reaction  0.074554  0.393587\n",
      "mh_fraction_reaction  mh_fraction_reaction  0.000000  0.000001\n",
      "mb_fraction_reaction  mb_fraction_reaction  0.000000  0.925445\n",
      "lb_df: dv_fraction_reaction    0.074554\n",
      "mh_fraction_reaction    0.000000\n",
      "mb_fraction_reaction    0.000000\n",
      "Name: min_flux, dtype: float64\n",
      "R_df: dv_fraction_reaction    0.319033\n",
      "mh_fraction_reaction    0.000001\n",
      "mb_fraction_reaction    0.925445\n",
      "dtype: float64\n",
      "Delta: 0.9254459487302565\n",
      "Sum R_df: 1.2444794705339968\n",
      "ab_df: dv_fraction_reaction    0.311800\n",
      "mh_fraction_reaction    0.000001\n",
      "mb_fraction_reaction    0.688199\n",
      "dtype: float64\n",
      "fba results: 0.052128854257332116\n"
     ]
    },
    {
     "data": {
      "text/html": [
       "<div>\n",
       "<style scoped>\n",
       "    .dataframe tbody tr th:only-of-type {\n",
       "        vertical-align: middle;\n",
       "    }\n",
       "\n",
       "    .dataframe tbody tr th {\n",
       "        vertical-align: top;\n",
       "    }\n",
       "\n",
       "    .dataframe thead th {\n",
       "        text-align: right;\n",
       "    }\n",
       "</style>\n",
       "<table border=\"1\" class=\"dataframe\">\n",
       "  <thead>\n",
       "    <tr style=\"text-align: right;\">\n",
       "      <th></th>\n",
       "      <th>reaction_id</th>\n",
       "      <th>min_flux</th>\n",
       "      <th>max_flux</th>\n",
       "    </tr>\n",
       "  </thead>\n",
       "  <tbody>\n",
       "    <tr>\n",
       "      <th>0</th>\n",
       "      <td>dv_fraction_reaction</td>\n",
       "      <td>0.074553</td>\n",
       "      <td>0.393590</td>\n",
       "    </tr>\n",
       "    <tr>\n",
       "      <th>1</th>\n",
       "      <td>mh_fraction_reaction</td>\n",
       "      <td>0.000000</td>\n",
       "      <td>0.681848</td>\n",
       "    </tr>\n",
       "    <tr>\n",
       "      <th>2</th>\n",
       "      <td>mb_fraction_reaction</td>\n",
       "      <td>0.000000</td>\n",
       "      <td>0.925447</td>\n",
       "    </tr>\n",
       "    <tr>\n",
       "      <th>3</th>\n",
       "      <td>community_biomass</td>\n",
       "      <td>0.052128</td>\n",
       "      <td>0.052128</td>\n",
       "    </tr>\n",
       "  </tbody>\n",
       "</table>\n",
       "</div>"
      ],
      "text/plain": [
       "            reaction_id  min_flux  max_flux\n",
       "0  dv_fraction_reaction  0.074553  0.393590\n",
       "1  mh_fraction_reaction  0.000000  0.681848\n",
       "2  mb_fraction_reaction  0.000000  0.925447\n",
       "3     community_biomass  0.052128  0.052128"
      ]
     },
     "execution_count": 10,
     "metadata": {},
     "output_type": "execute_result"
    }
   ],
   "source": [
    "# calculate abundance profile as well\n",
    "C2.max_growth_rate(return_abundances=True)"
   ]
  },
  {
   "cell_type": "markdown",
   "id": "529b5bcb-c4e9-46fc-9de5-4fa1c18ed8c8",
   "metadata": {},
   "source": [
    "### Sensitivity\n",
    "\n",
    "The ```sensitivity``` parameter describes the amount of decimal places that should be calculated. The default is set to 6, as the cplex solver may return inaccurate results at a higher value."
   ]
  },
  {
   "cell_type": "code",
   "execution_count": 11,
   "id": "46bbb5fe-c38e-4ccf-93f6-21f555fe5f14",
   "metadata": {
    "scrolled": true
   },
   "outputs": [
    {
     "name": "stdout",
     "output_type": "stream",
     "text": [
      "New round\n",
      "lb: 0.0, ub: 1000.0, x: 500.0\n",
      "Infeasible!\n",
      "New round\n",
      "lb: 0.0, ub: 500.0, x: 250.0\n",
      "Infeasible!\n",
      "New round\n",
      "lb: 0.0, ub: 250.0, x: 125.0\n",
      "Infeasible!\n",
      "New round\n",
      "lb: 0.0, ub: 125.0, x: 62.5\n",
      "Infeasible!\n",
      "New round\n",
      "lb: 0.0, ub: 62.5, x: 31.25\n",
      "Infeasible!\n",
      "New round\n",
      "lb: 0.0, ub: 31.25, x: 15.625\n",
      "Infeasible!\n",
      "New round\n",
      "lb: 0.0, ub: 15.625, x: 7.8125\n",
      "Infeasible!\n",
      "New round\n",
      "lb: 0.0, ub: 7.8125, x: 3.90625\n",
      "Infeasible!\n",
      "New round\n",
      "lb: 0.0, ub: 3.90625, x: 1.953125\n",
      "Infeasible!\n",
      "New round\n",
      "lb: 0.0, ub: 1.953125, x: 0.9765625\n",
      "Infeasible!\n",
      "New round\n",
      "lb: 0.0, ub: 0.9765625, x: 0.48828125\n",
      "Infeasible!\n",
      "New round\n",
      "lb: 0.0, ub: 0.48828125, x: 0.244140625\n",
      "Infeasible!\n",
      "New round\n",
      "lb: 0.0, ub: 0.244140625, x: 0.1220703125\n",
      "Infeasible!\n",
      "New round\n",
      "lb: 0.0, ub: 0.1220703125, x: 0.06103515625\n",
      "Infeasible!\n",
      "New round\n",
      "lb: 0.0, ub: 0.06103515625, x: 0.030517578125\n",
      "                               reaction_id  min_flux  max_flux\n",
      "dv_fraction_reaction  dv_fraction_reaction  0.054405  0.440197\n",
      "mh_fraction_reaction  mh_fraction_reaction  0.000000  0.767345\n",
      "mb_fraction_reaction  mb_fraction_reaction  0.000000  0.945595\n",
      "lb_df: dv_fraction_reaction    0.054405\n",
      "mh_fraction_reaction    0.000000\n",
      "mb_fraction_reaction    0.000000\n",
      "Name: min_flux, dtype: float64\n",
      "R_df: dv_fraction_reaction    0.385792\n",
      "mh_fraction_reaction    0.767345\n",
      "mb_fraction_reaction    0.945595\n",
      "dtype: float64\n",
      "Delta: 0.9455947182427553\n",
      "Sum R_df: 2.0987319742701214\n",
      "ab_df: dv_fraction_reaction    0.228226\n",
      "mh_fraction_reaction    0.345731\n",
      "mb_fraction_reaction    0.426043\n",
      "dtype: float64\n",
      "fba results: 0.05212885425732941\n",
      "New round\n",
      "lb: 0.05212885425732941, ub: 0.06103515625, x: 0.05232885425732941\n",
      "Infeasible!\n",
      "New round\n",
      "lb: 0.05212885425732941, ub: 0.05232885425732941, x: 0.05222885425732941\n",
      "Infeasible!\n",
      "New round\n",
      "lb: 0.05212885425732941, ub: 0.05222885425732941, x: 0.05217885425732941\n",
      "Infeasible!\n"
     ]
    },
    {
     "data": {
      "text/plain": [
       "0.0521"
      ]
     },
     "execution_count": 11,
     "metadata": {},
     "output_type": "execute_result"
    }
   ],
   "source": [
    "# sensitivity = 4\n",
    "C2.max_growth_rate(sensitivity=4)"
   ]
  },
  {
   "cell_type": "code",
   "execution_count": 12,
   "id": "7205745a-76dc-4566-b005-bc8f6b70defb",
   "metadata": {
    "scrolled": true
   },
   "outputs": [
    {
     "name": "stdout",
     "output_type": "stream",
     "text": [
      "New round\n",
      "lb: 0.0, ub: 1000.0, x: 500.0\n",
      "Infeasible!\n",
      "New round\n",
      "lb: 0.0, ub: 500.0, x: 250.0\n",
      "Infeasible!\n",
      "New round\n",
      "lb: 0.0, ub: 250.0, x: 125.0\n",
      "Infeasible!\n",
      "New round\n",
      "lb: 0.0, ub: 125.0, x: 62.5\n",
      "Infeasible!\n",
      "New round\n",
      "lb: 0.0, ub: 62.5, x: 31.25\n",
      "Infeasible!\n",
      "New round\n",
      "lb: 0.0, ub: 31.25, x: 15.625\n",
      "Infeasible!\n",
      "New round\n",
      "lb: 0.0, ub: 15.625, x: 7.8125\n",
      "Infeasible!\n",
      "New round\n",
      "lb: 0.0, ub: 7.8125, x: 3.90625\n",
      "Infeasible!\n",
      "New round\n",
      "lb: 0.0, ub: 3.90625, x: 1.953125\n",
      "Infeasible!\n",
      "New round\n",
      "lb: 0.0, ub: 1.953125, x: 0.9765625\n",
      "Infeasible!\n",
      "New round\n",
      "lb: 0.0, ub: 0.9765625, x: 0.48828125\n",
      "Infeasible!\n",
      "New round\n",
      "lb: 0.0, ub: 0.48828125, x: 0.244140625\n",
      "Infeasible!\n",
      "New round\n",
      "lb: 0.0, ub: 0.244140625, x: 0.1220703125\n",
      "Infeasible!\n",
      "New round\n",
      "lb: 0.0, ub: 0.1220703125, x: 0.06103515625\n",
      "Infeasible!\n",
      "New round\n",
      "lb: 0.0, ub: 0.06103515625, x: 0.030517578125\n",
      "                               reaction_id  min_flux  max_flux\n",
      "dv_fraction_reaction  dv_fraction_reaction  0.054405  0.440197\n",
      "mh_fraction_reaction  mh_fraction_reaction  0.000000  0.767345\n",
      "mb_fraction_reaction  mb_fraction_reaction  0.000000  0.945595\n",
      "lb_df: dv_fraction_reaction    0.054405\n",
      "mh_fraction_reaction    0.000000\n",
      "mb_fraction_reaction    0.000000\n",
      "Name: min_flux, dtype: float64\n",
      "R_df: dv_fraction_reaction    0.385792\n",
      "mh_fraction_reaction    0.767345\n",
      "mb_fraction_reaction    0.945595\n",
      "dtype: float64\n",
      "Delta: 0.9455947182427553\n",
      "Sum R_df: 2.0987319742701165\n",
      "ab_df: dv_fraction_reaction    0.228226\n",
      "mh_fraction_reaction    0.345731\n",
      "mb_fraction_reaction    0.426043\n",
      "dtype: float64\n",
      "fba results: 0.05212885425732925\n"
     ]
    },
    {
     "data": {
      "text/plain": [
       "0.05"
      ]
     },
     "execution_count": 12,
     "metadata": {},
     "output_type": "execute_result"
    }
   ],
   "source": [
    "# sensitivity = 2\n",
    "C2.max_growth_rate(sensitivity=2)"
   ]
  },
  {
   "cell_type": "code",
   "execution_count": null,
   "id": "3e41355c",
   "metadata": {},
   "outputs": [],
   "source": []
  }
 ],
 "metadata": {
  "kernelspec": {
   "display_name": "Python [conda env:.conda-cometspy]",
   "language": "python",
   "name": "conda-env-.conda-cometspy-py"
  },
  "language_info": {
   "codemirror_mode": {
    "name": "ipython",
    "version": 3
   },
   "file_extension": ".py",
   "mimetype": "text/x-python",
   "name": "python",
   "nbconvert_exporter": "python",
   "pygments_lexer": "ipython3",
   "version": "3.9.12"
  }
 },
 "nbformat": 4,
 "nbformat_minor": 5
}
