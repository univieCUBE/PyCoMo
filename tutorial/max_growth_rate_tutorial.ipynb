{
 "cells": [
  {
   "cell_type": "code",
   "execution_count": 1,
   "id": "2cadb7fd-5d68-4c2b-b803-d6c39ebbf828",
   "metadata": {
    "tags": []
   },
   "outputs": [],
   "source": [
    "from pathlib import Path\n",
    "import sys\n",
    "import os\n",
    "import cobra\n",
    "import math \n",
    "import time\n",
    "import warnings"
   ]
  },
  {
   "cell_type": "code",
   "execution_count": 2,
   "id": "30fa3103-2733-43c7-800a-14db6486fe3e",
   "metadata": {
    "tags": []
   },
   "outputs": [],
   "source": [
    "path_root = \"../src\"  # Change path according to your PyCoMo location\n",
    "sys.path.append(str(path_root))\n",
    "import pycomo"
   ]
  },
  {
   "cell_type": "code",
   "execution_count": 3,
   "id": "3d8fef41-c444-4888-a560-b0f8c444d4e3",
   "metadata": {
    "tags": []
   },
   "outputs": [
    {
     "name": "stdout",
     "output_type": "stream",
     "text": [
      "Restricted license - for non-production use only - expires 2024-10-28\n",
      "Read LP format model from file /tmp/tmpmbjc304o.lp\n",
      "Reading time = 0.00 seconds\n",
      ": 5 rows, 14 columns, 22 nonzeros\n",
      "Read LP format model from file /tmp/tmprfedrc7h.lp\n",
      "Reading time = 0.00 seconds\n",
      ": 5 rows, 12 columns, 20 nonzeros\n",
      "No community model generated yet. Generating now:\n",
      "Read LP format model from file /tmp/tmppak3hqeg.lp\n",
      "Reading time = 0.00 seconds\n",
      ": 5 rows, 14 columns, 22 nonzeros\n"
     ]
    },
    {
     "name": "stderr",
     "output_type": "stream",
     "text": [
      "Could not identify an external compartment by name and choosing one with the most boundary reactions. That might be complete nonsense or change suddenly. Consider renaming your compartments using `Model.compartments` to fix this.\n",
      "Could not identify an external compartment by name and choosing one with the most boundary reactions. That might be complete nonsense or change suddenly. Consider renaming your compartments using `Model.compartments` to fix this.\n",
      "Could not identify an external compartment by name and choosing one with the most boundary reactions. That might be complete nonsense or change suddenly. Consider renaming your compartments using `Model.compartments` to fix this.\n",
      "Could not identify an external compartment by name and choosing one with the most boundary reactions. That might be complete nonsense or change suddenly. Consider renaming your compartments using `Model.compartments` to fix this.\n",
      "Could not identify an external compartment by name and choosing one with the most boundary reactions. That might be complete nonsense or change suddenly. Consider renaming your compartments using `Model.compartments` to fix this.\n",
      "Could not identify an external compartment by name and choosing one with the most boundary reactions. That might be complete nonsense or change suddenly. Consider renaming your compartments using `Model.compartments` to fix this.\n"
     ]
    },
    {
     "name": "stdout",
     "output_type": "stream",
     "text": [
      "Read LP format model from file /tmp/tmpgxp9a8js.lp\n",
      "Reading time = 0.00 seconds\n",
      ": 5 rows, 12 columns, 20 nonzeros\n"
     ]
    },
    {
     "name": "stderr",
     "output_type": "stream",
     "text": [
      "Could not identify an external compartment by name and choosing one with the most boundary reactions. That might be complete nonsense or change suddenly. Consider renaming your compartments using `Model.compartments` to fix this.\n",
      "Could not identify an external compartment by name and choosing one with the most boundary reactions. That might be complete nonsense or change suddenly. Consider renaming your compartments using `Model.compartments` to fix this.\n",
      "Could not identify an external compartment by name and choosing one with the most boundary reactions. That might be complete nonsense or change suddenly. Consider renaming your compartments using `Model.compartments` to fix this.\n",
      "Could not identify an external compartment by name and choosing one with the most boundary reactions. That might be complete nonsense or change suddenly. Consider renaming your compartments using `Model.compartments` to fix this.\n",
      "Could not identify an external compartment by name and choosing one with the most boundary reactions. That might be complete nonsense or change suddenly. Consider renaming your compartments using `Model.compartments` to fix this.\n",
      "Could not identify an external compartment by name and choosing one with the most boundary reactions. That might be complete nonsense or change suddenly. Consider renaming your compartments using `Model.compartments` to fix this.\n",
      "Could not identify an external compartment by name and choosing one with the most boundary reactions. That might be complete nonsense or change suddenly. Consider renaming your compartments using `Model.compartments` to fix this.\n",
      "Could not identify an external compartment by name and choosing one with the most boundary reactions. That might be complete nonsense or change suddenly. Consider renaming your compartments using `Model.compartments` to fix this.\n",
      "Could not identify an external compartment by name and choosing one with the most boundary reactions. That might be complete nonsense or change suddenly. Consider renaming your compartments using `Model.compartments` to fix this.\n",
      "Could not identify an external compartment by name and choosing one with the most boundary reactions. That might be complete nonsense or change suddenly. Consider renaming your compartments using `Model.compartments` to fix this.\n"
     ]
    },
    {
     "name": "stdout",
     "output_type": "stream",
     "text": [
      "Read LP format model from file /tmp/tmpnqreuprr.lp\n",
      "Reading time = 0.00 seconds\n",
      ": 17 rows, 34 columns, 82 nonzeros\n"
     ]
    },
    {
     "name": "stderr",
     "output_type": "stream",
     "text": [
      "Ignoring reaction 'EX_C_medium' since it already exists.\n",
      "Could not identify an external compartment by name and choosing one with the most boundary reactions. That might be complete nonsense or change suddenly. Consider renaming your compartments using `Model.compartments` to fix this.\n",
      "Could not identify an external compartment by name and choosing one with the most boundary reactions. That might be complete nonsense or change suddenly. Consider renaming your compartments using `Model.compartments` to fix this.\n",
      "Could not identify an external compartment by name and choosing one with the most boundary reactions. That might be complete nonsense or change suddenly. Consider renaming your compartments using `Model.compartments` to fix this.\n",
      "Could not identify an external compartment by name and choosing one with the most boundary reactions. That might be complete nonsense or change suddenly. Consider renaming your compartments using `Model.compartments` to fix this.\n"
     ]
    },
    {
     "name": "stdout",
     "output_type": "stream",
     "text": [
      "WARNING: Not all reactions in the model are mass and charge balanced. To check which reactions are imbalanced, please run the get_unbalanced_reactions method of this CommunityModel object\n",
      "Generated community model.\n"
     ]
    }
   ],
   "source": [
    "# create two cobra models from sbml (change the path according to where the models are located)\n",
    "toy1 = cobra.io.read_sbml_model(\"../data/use_case/toy_models/toy_1.xml\")\n",
    "toy2 = cobra.io.read_sbml_model(\"../data/use_case/toy_models/toy_2_2.xml\")\n",
    "\n",
    "# create Single Organism Models from cobra models\n",
    "Toy1 = pycomo.SingleOrganismModel(toy1, \"toy1\")\n",
    "Toy2 = pycomo.SingleOrganismModel(toy2, \"toy2\")\n",
    "\n",
    "# create Community Model from Single Organism Models\n",
    "C = pycomo.CommunityModel([Toy1, Toy2], name = \"Toy_community\")\n",
    "# instantiate the model and set cplex as a solver\n",
    "C.model.solver = \"cplex\""
   ]
  },
  {
   "cell_type": "markdown",
   "id": "8a5e3d76-7f16-4e9d-8c30-a08bce46d809",
   "metadata": {},
   "source": [
    "## Compute maximum community growth rate\n",
    "\n",
    "The method ```max_growth_rate``` calculates the overall maximum growth rate of the community, regardless of its composition."
   ]
  },
  {
   "cell_type": "code",
   "execution_count": 4,
   "id": "4ffa3cd7-ab7f-46ec-af13-1b833c74bbbd",
   "metadata": {
    "tags": []
   },
   "outputs": [
    {
     "data": {
      "text/plain": [
       "15.0"
      ]
     },
     "execution_count": 4,
     "metadata": {},
     "output_type": "execute_result"
    }
   ],
   "source": [
    "C.max_growth_rate()"
   ]
  },
  {
   "cell_type": "markdown",
   "id": "77e1e1bf-9532-4222-8120-d876fb1a4083",
   "metadata": {},
   "source": [
    "```max_growth_rate``` has the following parameters:\n",
    "* ```minimal_abundance``` (default = 0)\n",
    "* ```return_abundances``` (default = False)\n",
    "* ```sensitivity``` (default = 6)\n",
    "* ```gurobi``` (default = False)"
   ]
  },
  {
   "cell_type": "markdown",
   "id": "19981da5-150c-40dc-86d0-9a391082c303",
   "metadata": {
    "tags": []
   },
   "source": [
    "### Return Abundances\n",
    "By setting the parameter ```return_abundances``` to ```True```, additional information about the feasible community compositions at the maximum growth rate is returned in the form of a pandas dataframe.\n",
    "\n",
    "The minimal flux of x_fraction_reaction corresponds to the minimal abundance of member x in the community. Likewise, the maximal flux corresponds to the maximal abundance of member x."
   ]
  },
  {
   "cell_type": "code",
   "execution_count": 5,
   "id": "ae13806a-8cf2-4ddc-b509-86ba9a2cce7f",
   "metadata": {
    "tags": []
   },
   "outputs": [
    {
     "data": {
      "text/html": [
       "<div>\n",
       "<style scoped>\n",
       "    .dataframe tbody tr th:only-of-type {\n",
       "        vertical-align: middle;\n",
       "    }\n",
       "\n",
       "    .dataframe tbody tr th {\n",
       "        vertical-align: top;\n",
       "    }\n",
       "\n",
       "    .dataframe thead th {\n",
       "        text-align: right;\n",
       "    }\n",
       "</style>\n",
       "<table border=\"1\" class=\"dataframe\">\n",
       "  <thead>\n",
       "    <tr style=\"text-align: right;\">\n",
       "      <th></th>\n",
       "      <th>reaction_id</th>\n",
       "      <th>min_flux</th>\n",
       "      <th>max_flux</th>\n",
       "    </tr>\n",
       "  </thead>\n",
       "  <tbody>\n",
       "    <tr>\n",
       "      <th>0</th>\n",
       "      <td>toy1_fraction_reaction</td>\n",
       "      <td>0.0</td>\n",
       "      <td>0.0</td>\n",
       "    </tr>\n",
       "    <tr>\n",
       "      <th>1</th>\n",
       "      <td>toy2_fraction_reaction</td>\n",
       "      <td>1.0</td>\n",
       "      <td>1.0</td>\n",
       "    </tr>\n",
       "    <tr>\n",
       "      <th>2</th>\n",
       "      <td>community_biomass</td>\n",
       "      <td>15.0</td>\n",
       "      <td>15.0</td>\n",
       "    </tr>\n",
       "  </tbody>\n",
       "</table>\n",
       "</div>"
      ],
      "text/plain": [
       "              reaction_id  min_flux  max_flux\n",
       "0  toy1_fraction_reaction       0.0       0.0\n",
       "1  toy2_fraction_reaction       1.0       1.0\n",
       "2       community_biomass      15.0      15.0"
      ]
     },
     "execution_count": 5,
     "metadata": {},
     "output_type": "execute_result"
    }
   ],
   "source": [
    "C.max_growth_rate(return_abundances=True)"
   ]
  },
  {
   "cell_type": "markdown",
   "id": "ca292ce1-73ba-4c76-9408-e7855d8fc925",
   "metadata": {
    "tags": []
   },
   "source": [
    "### Minimal abundance\n",
    "Edge cases exist in which the highest growth rate of a community is not achieved by a combination of all the members. Instead, one member with an abundance of 100% may achieve the maximum growth rate. \n",
    "\n",
    "In order to exclude these cases, the parameter ```minimal_abundance``` must be set to a float greater than 0. This sets the minimal abundance of all members to the set float. Take care that the sum of the minimal abundances is not greater than 1, as this will result in an error."
   ]
  },
  {
   "cell_type": "code",
   "execution_count": 6,
   "id": "5f78e750-989a-4020-993b-436f1cad954e",
   "metadata": {
    "tags": []
   },
   "outputs": [
    {
     "data": {
      "text/plain": [
       "10.0"
      ]
     },
     "execution_count": 6,
     "metadata": {},
     "output_type": "execute_result"
    }
   ],
   "source": [
    "C.max_growth_rate(minimal_abundance=0.1)"
   ]
  },
  {
   "cell_type": "code",
   "execution_count": 7,
   "id": "af800adc-ed1a-4db0-aa44-2295b3d5add6",
   "metadata": {
    "tags": []
   },
   "outputs": [
    {
     "ename": "AssertionError",
     "evalue": "sum of abundances is greater than 1",
     "output_type": "error",
     "traceback": [
      "\u001b[0;31m---------------------------------------------------------------------------\u001b[0m",
      "\u001b[0;31mAssertionError\u001b[0m                            Traceback (most recent call last)",
      "Cell \u001b[0;32mIn[7], line 2\u001b[0m\n\u001b[1;32m      1\u001b[0m \u001b[38;5;66;03m# too large minimal_abundance value leads to an error\u001b[39;00m\n\u001b[0;32m----> 2\u001b[0m \u001b[43mC\u001b[49m\u001b[38;5;241;43m.\u001b[39;49m\u001b[43mmax_growth_rate\u001b[49m\u001b[43m(\u001b[49m\u001b[43mminimal_abundance\u001b[49m\u001b[38;5;241;43m=\u001b[39;49m\u001b[38;5;241;43m0.6\u001b[39;49m\u001b[43m)\u001b[49m\n\u001b[1;32m      4\u001b[0m \u001b[38;5;66;03m# The community has two members: \u001b[39;00m\n\u001b[1;32m      5\u001b[0m \u001b[38;5;66;03m# 2 * 0.6 = 1.2\u001b[39;00m\n\u001b[1;32m      6\u001b[0m \u001b[38;5;66;03m# 1.2 > 1\u001b[39;00m\n",
      "File \u001b[0;32m~/PhD/PyCoMo/tutorial/../src/pycomo/pycomo_models.py:1963\u001b[0m, in \u001b[0;36mCommunityModel.max_growth_rate\u001b[0;34m(self, minimal_abundance, return_abundances, sensitivity)\u001b[0m\n\u001b[1;32m   1961\u001b[0m frxns \u001b[38;5;241m=\u001b[39m [\u001b[38;5;28mself\u001b[39m\u001b[38;5;241m.\u001b[39mmodel\u001b[38;5;241m.\u001b[39mreactions\u001b[38;5;241m.\u001b[39mget_by_id(\u001b[38;5;124mf\u001b[39m\u001b[38;5;124m'\u001b[39m\u001b[38;5;132;01m{\u001b[39;00mname\u001b[38;5;132;01m}\u001b[39;00m\u001b[38;5;124m_fraction_reaction\u001b[39m\u001b[38;5;124m'\u001b[39m) \u001b[38;5;28;01mfor\u001b[39;00m name \u001b[38;5;129;01min\u001b[39;00m names]\n\u001b[1;32m   1962\u001b[0m \u001b[38;5;66;03m# check that the sum of minimal abundances is not greater than 1\u001b[39;00m\n\u001b[0;32m-> 1963\u001b[0m \u001b[38;5;28;01massert\u001b[39;00m \u001b[38;5;28mlen\u001b[39m(names)\u001b[38;5;241m*\u001b[39mminimal_abundance \u001b[38;5;241m<\u001b[39m\u001b[38;5;241m=\u001b[39m\u001b[38;5;241m1\u001b[39m, \u001b[38;5;124m\"\u001b[39m\u001b[38;5;124msum of abundances is greater than 1\u001b[39m\u001b[38;5;124m\"\u001b[39m\n\u001b[1;32m   1964\u001b[0m \u001b[38;5;28;01mfor\u001b[39;00m frxn \u001b[38;5;129;01min\u001b[39;00m frxns:\n\u001b[1;32m   1965\u001b[0m     frxn\u001b[38;5;241m.\u001b[39mbounds \u001b[38;5;241m=\u001b[39m (minimal_abundance, \u001b[38;5;241m1.0\u001b[39m)\n",
      "\u001b[0;31mAssertionError\u001b[0m: sum of abundances is greater than 1"
     ]
    }
   ],
   "source": [
    "# too large minimal_abundance value leads to an error\n",
    "C.max_growth_rate(minimal_abundance=0.6)\n",
    "\n",
    "# The community has two members: \n",
    "# 2 * 0.6 = 1.2\n",
    "# 1.2 > 1"
   ]
  },
  {
   "cell_type": "markdown",
   "id": "221ee104-59a2-4510-a6d8-9f3d8b15b8d3",
   "metadata": {},
   "source": [
    "## Example: Biogas producing community"
   ]
  },
  {
   "cell_type": "code",
   "execution_count": 8,
   "id": "97960ca4-12d8-4ea5-945e-1d080248c86a",
   "metadata": {
    "tags": []
   },
   "outputs": [
    {
     "name": "stderr",
     "output_type": "stream",
     "text": [
      "'3PG' is not a valid SBML 'SId'.\n",
      "'2PG' is not a valid SBML 'SId'.\n",
      "Adding exchange reaction EX_H2_EX with default bounds for boundary metabolite: H2_EX.\n",
      "Adding exchange reaction EX_Ac_EX with default bounds for boundary metabolite: Ac_EX.\n",
      "Adding exchange reaction EX_CO2_EX with default bounds for boundary metabolite: CO2_EX.\n",
      "Adding exchange reaction EX_Form_EX with default bounds for boundary metabolite: Form_EX.\n",
      "Adding exchange reaction EX_SO4_EX with default bounds for boundary metabolite: SO4_EX.\n",
      "Adding exchange reaction EX_H2S_EX with default bounds for boundary metabolite: H2S_EX.\n",
      "Adding exchange reaction EX_Eth_EX with default bounds for boundary metabolite: Eth_EX.\n",
      "Adding exchange reaction EX_Lac_EX with default bounds for boundary metabolite: Lac_EX.\n",
      "Adding exchange reaction EX_Pyr_EX with default bounds for boundary metabolite: Pyr_EX.\n",
      "Adding exchange reaction EX_BM_tot with default bounds for boundary metabolite: BM_tot.\n",
      "'2PG__PEP' is not a valid SBML 'SId'.\n",
      "'3PG__2PG' is not a valid SBML 'SId'.\n",
      "'0Pyr__AcCoA' is not a valid SBML 'SId'.\n",
      "'5CHOMPT' is not a valid SBML 'SId'.\n",
      "'3PG' is not a valid SBML 'SId'.\n",
      "'2PG' is not a valid SBML 'SId'.\n",
      "Adding exchange reaction EX_H2_EX with default bounds for boundary metabolite: H2_EX.\n",
      "Adding exchange reaction EX_CO2_EX with default bounds for boundary metabolite: CO2_EX.\n",
      "Adding exchange reaction EX_CH4_EX with default bounds for boundary metabolite: CH4_EX.\n",
      "Adding exchange reaction EX_Form_EX with default bounds for boundary metabolite: Form_EX.\n",
      "Adding exchange reaction EX_BM_tot with default bounds for boundary metabolite: BM_tot.\n",
      "'2PG__3PG' is not a valid SBML 'SId'.\n",
      "'3PG__DPG' is not a valid SBML 'SId'.\n",
      "'5CHOMPT__CHH4MPT' is not a valid SBML 'SId'.\n",
      "'3PG' is not a valid SBML 'SId'.\n",
      "'2PG' is not a valid SBML 'SId'.\n",
      "'5CHOMPT' is not a valid SBML 'SId'.\n",
      "Adding exchange reaction EX_H2_EX with default bounds for boundary metabolite: H2_EX.\n",
      "Adding exchange reaction EX_CO2_EX with default bounds for boundary metabolite: CO2_EX.\n",
      "Adding exchange reaction EX_CH4_EX with default bounds for boundary metabolite: CH4_EX.\n",
      "Adding exchange reaction EX_Ac_EX with default bounds for boundary metabolite: Ac_EX.\n",
      "Adding exchange reaction EX_MetOH_EX with default bounds for boundary metabolite: MetOH_EX.\n",
      "Adding exchange reaction EX_BM_tot with default bounds for boundary metabolite: BM_tot.\n",
      "'3PG__2PG__3PG' is not a valid SBML 'SId'.\n",
      "'5CHOMPT__CHH4MPT' is not a valid SBML 'SId'.\n"
     ]
    },
    {
     "name": "stdout",
     "output_type": "stream",
     "text": [
      "Read LP format model from file /tmp/tmp3z54nih7.lp\n",
      "Reading time = 0.00 seconds\n",
      ": 109 rows, 250 columns, 946 nonzeros\n",
      "Read LP format model from file /tmp/tmp4t77b_g1.lp\n",
      "Reading time = 0.00 seconds\n",
      ": 100 rows, 214 columns, 866 nonzeros\n",
      "Read LP format model from file /tmp/tmp3c7yu710.lp\n",
      "Reading time = 0.00 seconds\n",
      ": 102 rows, 218 columns, 854 nonzeros\n",
      "No community model generated yet. Generating now:\n",
      "Read LP format model from file /tmp/tmp673hzvdv.lp\n",
      "Reading time = 0.00 seconds\n",
      ": 109 rows, 250 columns, 946 nonzeros\n"
     ]
    },
    {
     "name": "stderr",
     "output_type": "stream",
     "text": [
      "Could not identify an external compartment by name and choosing one with the most boundary reactions. That might be complete nonsense or change suddenly. Consider renaming your compartments using `Model.compartments` to fix this.\n",
      "Could not identify an external compartment by name and choosing one with the most boundary reactions. That might be complete nonsense or change suddenly. Consider renaming your compartments using `Model.compartments` to fix this.\n",
      "Could not identify an external compartment by name and choosing one with the most boundary reactions. That might be complete nonsense or change suddenly. Consider renaming your compartments using `Model.compartments` to fix this.\n",
      "Could not identify an external compartment by name and choosing one with the most boundary reactions. That might be complete nonsense or change suddenly. Consider renaming your compartments using `Model.compartments` to fix this.\n",
      "Could not identify an external compartment by name and choosing one with the most boundary reactions. That might be complete nonsense or change suddenly. Consider renaming your compartments using `Model.compartments` to fix this.\n",
      "Could not identify an external compartment by name and choosing one with the most boundary reactions. That might be complete nonsense or change suddenly. Consider renaming your compartments using `Model.compartments` to fix this.\n",
      "Could not identify an external compartment by name and choosing one with the most boundary reactions. That might be complete nonsense or change suddenly. Consider renaming your compartments using `Model.compartments` to fix this.\n",
      "Could not identify an external compartment by name and choosing one with the most boundary reactions. That might be complete nonsense or change suddenly. Consider renaming your compartments using `Model.compartments` to fix this.\n"
     ]
    },
    {
     "name": "stdout",
     "output_type": "stream",
     "text": [
      "Read LP format model from file /tmp/tmp_qfo2get.lp\n",
      "Reading time = 0.00 seconds\n",
      ": 100 rows, 214 columns, 866 nonzeros\n"
     ]
    },
    {
     "name": "stderr",
     "output_type": "stream",
     "text": [
      "Could not identify an external compartment by name and choosing one with the most boundary reactions. That might be complete nonsense or change suddenly. Consider renaming your compartments using `Model.compartments` to fix this.\n",
      "Could not identify an external compartment by name and choosing one with the most boundary reactions. That might be complete nonsense or change suddenly. Consider renaming your compartments using `Model.compartments` to fix this.\n",
      "Could not identify an external compartment by name and choosing one with the most boundary reactions. That might be complete nonsense or change suddenly. Consider renaming your compartments using `Model.compartments` to fix this.\n",
      "Could not identify an external compartment by name and choosing one with the most boundary reactions. That might be complete nonsense or change suddenly. Consider renaming your compartments using `Model.compartments` to fix this.\n",
      "Could not identify an external compartment by name and choosing one with the most boundary reactions. That might be complete nonsense or change suddenly. Consider renaming your compartments using `Model.compartments` to fix this.\n",
      "Could not identify an external compartment by name and choosing one with the most boundary reactions. That might be complete nonsense or change suddenly. Consider renaming your compartments using `Model.compartments` to fix this.\n",
      "Could not identify an external compartment by name and choosing one with the most boundary reactions. That might be complete nonsense or change suddenly. Consider renaming your compartments using `Model.compartments` to fix this.\n",
      "Could not identify an external compartment by name and choosing one with the most boundary reactions. That might be complete nonsense or change suddenly. Consider renaming your compartments using `Model.compartments` to fix this.\n",
      "Could not identify an external compartment by name and choosing one with the most boundary reactions. That might be complete nonsense or change suddenly. Consider renaming your compartments using `Model.compartments` to fix this.\n",
      "Could not identify an external compartment by name and choosing one with the most boundary reactions. That might be complete nonsense or change suddenly. Consider renaming your compartments using `Model.compartments` to fix this.\n",
      "Could not identify an external compartment by name and choosing one with the most boundary reactions. That might be complete nonsense or change suddenly. Consider renaming your compartments using `Model.compartments` to fix this.\n",
      "Could not identify an external compartment by name and choosing one with the most boundary reactions. That might be complete nonsense or change suddenly. Consider renaming your compartments using `Model.compartments` to fix this.\n"
     ]
    },
    {
     "name": "stdout",
     "output_type": "stream",
     "text": [
      "WARNING: no annotation overlap found for matching metabolite CO2_EX. Please make sure that the metabolite with this ID is indeed representing the same substance in all models!\n",
      "WARNING: no annotation overlap found for matching metabolite Form_EX. Please make sure that the metabolite with this ID is indeed representing the same substance in all models!\n",
      "WARNING: no annotation overlap found for matching metabolite H2_EX. Please make sure that the metabolite with this ID is indeed representing the same substance in all models!\n",
      "Read LP format model from file /tmp/tmpydjl43vw.lp\n",
      "Reading time = 0.00 seconds\n",
      ": 252 rows, 516 columns, 1760 nonzeros\n"
     ]
    },
    {
     "name": "stderr",
     "output_type": "stream",
     "text": [
      "Ignoring reaction 'EX_H2_EX_medium' since it already exists.\n",
      "Ignoring reaction 'EX_CO2_EX_medium' since it already exists.\n",
      "Ignoring reaction 'EX_Form_EX_medium' since it already exists.\n"
     ]
    },
    {
     "name": "stdout",
     "output_type": "stream",
     "text": [
      "Read LP format model from file /tmp/tmph4z31w_a.lp\n",
      "Reading time = 0.00 seconds\n",
      ": 102 rows, 218 columns, 854 nonzeros\n"
     ]
    },
    {
     "name": "stderr",
     "output_type": "stream",
     "text": [
      "Could not identify an external compartment by name and choosing one with the most boundary reactions. That might be complete nonsense or change suddenly. Consider renaming your compartments using `Model.compartments` to fix this.\n",
      "Could not identify an external compartment by name and choosing one with the most boundary reactions. That might be complete nonsense or change suddenly. Consider renaming your compartments using `Model.compartments` to fix this.\n",
      "Could not identify an external compartment by name and choosing one with the most boundary reactions. That might be complete nonsense or change suddenly. Consider renaming your compartments using `Model.compartments` to fix this.\n",
      "Could not identify an external compartment by name and choosing one with the most boundary reactions. That might be complete nonsense or change suddenly. Consider renaming your compartments using `Model.compartments` to fix this.\n",
      "Could not identify an external compartment by name and choosing one with the most boundary reactions. That might be complete nonsense or change suddenly. Consider renaming your compartments using `Model.compartments` to fix this.\n",
      "Could not identify an external compartment by name and choosing one with the most boundary reactions. That might be complete nonsense or change suddenly. Consider renaming your compartments using `Model.compartments` to fix this.\n",
      "Could not identify an external compartment by name and choosing one with the most boundary reactions. That might be complete nonsense or change suddenly. Consider renaming your compartments using `Model.compartments` to fix this.\n",
      "Could not identify an external compartment by name and choosing one with the most boundary reactions. That might be complete nonsense or change suddenly. Consider renaming your compartments using `Model.compartments` to fix this.\n",
      "Could not identify an external compartment by name and choosing one with the most boundary reactions. That might be complete nonsense or change suddenly. Consider renaming your compartments using `Model.compartments` to fix this.\n",
      "Could not identify an external compartment by name and choosing one with the most boundary reactions. That might be complete nonsense or change suddenly. Consider renaming your compartments using `Model.compartments` to fix this.\n",
      "Could not identify an external compartment by name and choosing one with the most boundary reactions. That might be complete nonsense or change suddenly. Consider renaming your compartments using `Model.compartments` to fix this.\n",
      "Could not identify an external compartment by name and choosing one with the most boundary reactions. That might be complete nonsense or change suddenly. Consider renaming your compartments using `Model.compartments` to fix this.\n"
     ]
    },
    {
     "name": "stdout",
     "output_type": "stream",
     "text": [
      "WARNING: no annotation overlap found for matching metabolite CO2_EX. Please make sure that the metabolite with this ID is indeed representing the same substance in all models!\n",
      "WARNING: no annotation overlap found for matching metabolite H2_EX. Please make sure that the metabolite with this ID is indeed representing the same substance in all models!\n",
      "WARNING: no annotation overlap found for matching metabolite Ac_EX. Please make sure that the metabolite with this ID is indeed representing the same substance in all models!\n",
      "WARNING: no annotation overlap found for matching metabolite BM_tot. Please make sure that the metabolite with this ID is indeed representing the same substance in all models!\n",
      "WARNING: no annotation overlap found for matching metabolite CH4_EX. Please make sure that the metabolite with this ID is indeed representing the same substance in all models!\n",
      "Read LP format model from file /tmp/tmp189c3vjm.lp\n",
      "Reading time = 0.00 seconds\n",
      ": 257 rows, 526 columns, 1764 nonzeros\n"
     ]
    },
    {
     "name": "stderr",
     "output_type": "stream",
     "text": [
      "Ignoring reaction 'EX_H2_EX_medium' since it already exists.\n",
      "Ignoring reaction 'EX_CO2_EX_medium' since it already exists.\n",
      "Ignoring reaction 'EX_CH4_EX_medium' since it already exists.\n",
      "Ignoring reaction 'EX_Ac_EX_medium' since it already exists.\n",
      "Ignoring reaction 'EX_BM_tot_medium' since it already exists.\n",
      "Could not identify an external compartment by name and choosing one with the most boundary reactions. That might be complete nonsense or change suddenly. Consider renaming your compartments using `Model.compartments` to fix this.\n",
      "Could not identify an external compartment by name and choosing one with the most boundary reactions. That might be complete nonsense or change suddenly. Consider renaming your compartments using `Model.compartments` to fix this.\n",
      "Could not identify an external compartment by name and choosing one with the most boundary reactions. That might be complete nonsense or change suddenly. Consider renaming your compartments using `Model.compartments` to fix this.\n",
      "Could not identify an external compartment by name and choosing one with the most boundary reactions. That might be complete nonsense or change suddenly. Consider renaming your compartments using `Model.compartments` to fix this.\n",
      "Could not identify an external compartment by name and choosing one with the most boundary reactions. That might be complete nonsense or change suddenly. Consider renaming your compartments using `Model.compartments` to fix this.\n",
      "Could not identify an external compartment by name and choosing one with the most boundary reactions. That might be complete nonsense or change suddenly. Consider renaming your compartments using `Model.compartments` to fix this.\n"
     ]
    },
    {
     "name": "stdout",
     "output_type": "stream",
     "text": [
      "Generated community model.\n"
     ]
    },
    {
     "name": "stderr",
     "output_type": "stream",
     "text": [
      "Could not identify an external compartment by name and choosing one with the most boundary reactions. That might be complete nonsense or change suddenly. Consider renaming your compartments using `Model.compartments` to fix this.\n"
     ]
    }
   ],
   "source": [
    "# create cobra models from sbml\n",
    "dv = cobra.io.read_sbml_model(\"../data/use_case/koch/dv.xml\")\n",
    "mh = cobra.io.read_sbml_model(\"../data/use_case/koch/mh.xml\")\n",
    "mb = cobra.io.read_sbml_model(\"../data/use_case/koch/mb.xml\")\n",
    "\n",
    "# change infinite upper bounds to 1000\n",
    "for model in [dv,mh,mb]:\n",
    "    for reaction in model.reactions:\n",
    "        if reaction.upper_bound == math.inf:\n",
    "            reaction.upper_bound = 1000\n",
    "        if reaction.lower_bound == -math.inf:\n",
    "            reaction.lower_bound = -1000\n",
    "\n",
    "# create Single Organism Models from cobra models\n",
    "DV = pycomo.SingleOrganismModel(dv, \"dv\")\n",
    "MH = pycomo.SingleOrganismModel(mh, \"mh\")\n",
    "MB = pycomo.SingleOrganismModel(mb, \"mb\")\n",
    "\n",
    "# create Community Model from Single Organism Models\n",
    "C2 = pycomo.CommunityModel([DV, MH, MB], name = \"dv_mh_mb_community\")\n",
    "\n",
    "# set solver to cplex \n",
    "C2.model.solver = \"cplex\"\n",
    "\n",
    "# apply the same medium as in the paper by Koch et al.\n",
    "medium = {\n",
    "    'EX_CO2_EX_medium': 1000.0,\n",
    "    'EX_Eth_EX_medium': 1000.0,\n",
    "    'EX_BM_tot_medium': 1000.0\n",
    "}\n",
    "C2.medium = medium\n",
    "C2.apply_medium()\n",
    "\n",
    "# Formate and Hydrogen are not allowed to accumulate in the medium.\n",
    "C2.model.reactions.get_by_id(\"EX_Form_EX_medium\").upper_bound = 0.\n",
    "C2.model.reactions.get_by_id(\"EX_H2_EX_medium\").upper_bound = 0.\n"
   ]
  },
  {
   "cell_type": "code",
   "execution_count": 9,
   "id": "46812556-3d00-40bb-8fc2-30940ad18269",
   "metadata": {
    "tags": []
   },
   "outputs": [
    {
     "data": {
      "text/plain": [
       "0.052128"
      ]
     },
     "execution_count": 9,
     "metadata": {},
     "output_type": "execute_result"
    }
   ],
   "source": [
    "# calculate max growth rate of community\n",
    "C2.max_growth_rate()"
   ]
  },
  {
   "cell_type": "code",
   "execution_count": 10,
   "id": "1cd3c036-ebf1-4cf8-b89b-d6803e94aa16",
   "metadata": {
    "tags": []
   },
   "outputs": [
    {
     "data": {
      "text/html": [
       "<div>\n",
       "<style scoped>\n",
       "    .dataframe tbody tr th:only-of-type {\n",
       "        vertical-align: middle;\n",
       "    }\n",
       "\n",
       "    .dataframe tbody tr th {\n",
       "        vertical-align: top;\n",
       "    }\n",
       "\n",
       "    .dataframe thead th {\n",
       "        text-align: right;\n",
       "    }\n",
       "</style>\n",
       "<table border=\"1\" class=\"dataframe\">\n",
       "  <thead>\n",
       "    <tr style=\"text-align: right;\">\n",
       "      <th></th>\n",
       "      <th>reaction_id</th>\n",
       "      <th>min_flux</th>\n",
       "      <th>max_flux</th>\n",
       "    </tr>\n",
       "  </thead>\n",
       "  <tbody>\n",
       "    <tr>\n",
       "      <th>0</th>\n",
       "      <td>dv_fraction_reaction</td>\n",
       "      <td>0.074553</td>\n",
       "      <td>0.393590</td>\n",
       "    </tr>\n",
       "    <tr>\n",
       "      <th>1</th>\n",
       "      <td>mh_fraction_reaction</td>\n",
       "      <td>0.000000</td>\n",
       "      <td>0.681848</td>\n",
       "    </tr>\n",
       "    <tr>\n",
       "      <th>2</th>\n",
       "      <td>mb_fraction_reaction</td>\n",
       "      <td>0.000000</td>\n",
       "      <td>0.925447</td>\n",
       "    </tr>\n",
       "    <tr>\n",
       "      <th>3</th>\n",
       "      <td>community_biomass</td>\n",
       "      <td>0.052128</td>\n",
       "      <td>0.052128</td>\n",
       "    </tr>\n",
       "  </tbody>\n",
       "</table>\n",
       "</div>"
      ],
      "text/plain": [
       "            reaction_id  min_flux  max_flux\n",
       "0  dv_fraction_reaction  0.074553  0.393590\n",
       "1  mh_fraction_reaction  0.000000  0.681848\n",
       "2  mb_fraction_reaction  0.000000  0.925447\n",
       "3     community_biomass  0.052128  0.052128"
      ]
     },
     "execution_count": 10,
     "metadata": {},
     "output_type": "execute_result"
    }
   ],
   "source": [
    "# calculate abundance profile as well\n",
    "C2.max_growth_rate(return_abundances=True)"
   ]
  },
  {
   "cell_type": "markdown",
   "id": "529b5bcb-c4e9-46fc-9de5-4fa1c18ed8c8",
   "metadata": {},
   "source": [
    "### Sensitivity\n",
    "\n",
    "The ```sensitivity``` parameter describes the amount of decimal places that should be calculated. The default is set to 6, as the cplex solver may return inaccurate results at a higher value."
   ]
  },
  {
   "cell_type": "code",
   "execution_count": 11,
   "id": "46bbb5fe-c38e-4ccf-93f6-21f555fe5f14",
   "metadata": {},
   "outputs": [
    {
     "data": {
      "text/plain": [
       "0.0521"
      ]
     },
     "execution_count": 11,
     "metadata": {},
     "output_type": "execute_result"
    }
   ],
   "source": [
    "# sensitivity = 4\n",
    "C2.max_growth_rate(sensitivity=4)"
   ]
  },
  {
   "cell_type": "code",
   "execution_count": 12,
   "id": "7205745a-76dc-4566-b005-bc8f6b70defb",
   "metadata": {},
   "outputs": [
    {
     "data": {
      "text/plain": [
       "0.05"
      ]
     },
     "execution_count": 12,
     "metadata": {},
     "output_type": "execute_result"
    }
   ],
   "source": [
    "# sensitivity = 2\n",
    "C2.max_growth_rate(sensitivity=2)"
   ]
  }
 ],
 "metadata": {
  "kernelspec": {
   "display_name": "Python 3",
   "language": "python",
   "name": "python3"
  },
  "language_info": {
   "codemirror_mode": {
    "name": "ipython",
    "version": 3
   },
   "file_extension": ".py",
   "mimetype": "text/x-python",
   "name": "python",
   "nbconvert_exporter": "python",
   "pygments_lexer": "ipython3",
   "version": "3.10.12"
  }
 },
 "nbformat": 4,
 "nbformat_minor": 5
}
